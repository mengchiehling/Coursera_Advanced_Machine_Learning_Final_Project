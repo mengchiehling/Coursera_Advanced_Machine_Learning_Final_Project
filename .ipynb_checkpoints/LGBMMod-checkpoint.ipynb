{
 "cells": [
  {
   "cell_type": "code",
   "execution_count": null,
   "metadata": {},
   "outputs": [],
   "source": [
    "from Regression import *\n",
    "import pandas as pd\n",
    "import numpy as np\n",
    "from datetime import datetime\n",
    "\n",
    "if __name__ == \"__main__\":\n",
    "    \n",
    "    time_begin = datetime.now()\n",
    "    \n",
    "    model_name = \"models/LGBMRegressor\"\n",
    "    key = \"LGBM\"\n",
    "    \n",
    "    num_leaves = np.arange(11, 52, 10).astype(int)\n",
    "    learning_rate = [0.025, 0.05, 0.075, 0.1]\n",
    "    num_iterations = [400]\n",
    "    max_depth = [9, 12, 15, 18]\n",
    "    min_data_in_leaf = np.arange(20, 51, 10).astype(int)\n",
    "\n",
    "    params = {'num_leaves': num_leaves,\n",
    "              'learning_rate': learning_rate,\n",
    "              'num_iterations': num_iterations,\n",
    "              'max_depth': max_depth,\n",
    "              'min_data_in_leaf': min_data_in_leaf}\n",
    "    \n",
    "    X_train = pd.read_csv(\"X_train.csv.gz\")\n",
    "    X_test = pd.read_csv(\"X_test.csv.gz\")\n",
    "    Y_train = pd.read_csv(\"Y_train.csv.gz\")\n",
    "    \n",
    "    LGBMRegressor_Fitting(X_train, Y_train, params, output_model_name=model_name)\n",
    "    \n",
    "    time_end = datetime.now()\n",
    "    \n",
    "    period = time_end - time_begin\n",
    "    \n",
    "    print period\n",
    "    \n",
    "    regressor = joblib.load(model_name)\n",
    "    \n",
    "    prediction1 = regressor.predict(X_train).reshape(-1,1)\n",
    "    prediction1_df = pd.DataFrame(data=prediction1, columns=[key])\n",
    "    prediction1_df.to_csv(\"predictions_training/{}.csv\".format(key), index=False)\n",
    "\n",
    "    prediction2 = regressor.predict(X_test.drop(['ID'], axis=1)).reshape(-1,1)\n",
    "    prediction2_df = pd.DataFrame(data=prediction2, columns=[key])\n",
    "    prediction2_df = pd.concat([X_test[['ID']], prediction2_df], axis=1)\n",
    "    prediction2_df.to_csv(\"predictions_testing/{}.csv\".format(key), index=False)"
   ]
  },
  {
   "cell_type": "code",
   "execution_count": null,
   "metadata": {},
   "outputs": [],
   "source": []
  }
 ],
 "metadata": {
  "kernelspec": {
   "display_name": "Python 2",
   "language": "python",
   "name": "python2"
  },
  "language_info": {
   "codemirror_mode": {
    "name": "ipython",
    "version": 2
   },
   "file_extension": ".py",
   "mimetype": "text/x-python",
   "name": "python",
   "nbconvert_exporter": "python",
   "pygments_lexer": "ipython2",
   "version": "2.7.14"
  }
 },
 "nbformat": 4,
 "nbformat_minor": 2
}
