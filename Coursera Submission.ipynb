{
 "cells": [
  {
   "cell_type": "markdown",
   "metadata": {},
   "source": [
    "# Bench Mark"
   ]
  },
  {
   "cell_type": "code",
   "execution_count": null,
   "metadata": {
    "collapsed": true
   },
   "outputs": [],
   "source": [
    "import pandas as pd\n",
    "import numpy as np\n",
    "\n",
    "items_df = pd.read_csv('Data/items.csv')\n",
    "shops_df = pd.read_csv('Data/shops.csv')\n",
    "icats_df = pd.read_csv(\"Data/item_categories.csv\")\n",
    "train_df = pd.read_csv(\"Data/sales_train.csv.gz\")\n",
    "test_df  = pd.read_csv('Data/test.csv.gz') # 214200 rows"
   ]
  },
  {
   "cell_type": "code",
   "execution_count": null,
   "metadata": {
    "collapsed": true
   },
   "outputs": [],
   "source": [
    "test_shops = test_df.shop_id.unique()\n",
    "train_df = train_df[train_df.shop_id.isin(test_shops)]\n",
    "test_items = test_df.item_id.unique()\n",
    "train_df = train_df[train_df.item_id.isin(test_items)]\n",
    "\n",
    "print('train:', train_df.shape, 'test:', test_df.shape, 'items:', items_df.shape, 'shops:', shops_df.shape)"
   ]
  },
  {
   "cell_type": "code",
   "execution_count": null,
   "metadata": {
    "collapsed": true
   },
   "outputs": [],
   "source": [
    "test_only = test_df[~test_df['item_id'].isin(train_df['item_id'].unique())]['item_id'].unique()"
   ]
  },
  {
   "cell_type": "code",
   "execution_count": null,
   "metadata": {
    "collapsed": true
   },
   "outputs": [],
   "source": [
    "# group by\n",
    "train_grp = train_df.groupby(['date_block_num','shop_id','item_id'])"
   ]
  },
  {
   "cell_type": "code",
   "execution_count": null,
   "metadata": {
    "collapsed": true
   },
   "outputs": [],
   "source": [
    "# price mean by month\n",
    "train_price = pd.DataFrame(train_grp.mean()['item_price']).reset_index()\n",
    "train_price.head()"
   ]
  },
  {
   "cell_type": "code",
   "execution_count": null,
   "metadata": {
    "collapsed": true
   },
   "outputs": [],
   "source": [
    "# count summary by month\n",
    "train_monthly = pd.DataFrame(train_grp.sum()['item_cnt_day']).reset_index()\n",
    "train_monthly.rename(columns={'item_cnt_day':'item_cnt'}, inplace=True)\n",
    "train_monthly.head()"
   ]
  },
  {
   "cell_type": "code",
   "execution_count": null,
   "metadata": {
    "collapsed": true
   },
   "outputs": [],
   "source": [
    "train_piv = train_df.pivot_table(index=['shop_id','item_id'], columns='date_block_num', values='item_cnt_day',aggfunc='sum').fillna(0.0)    \n",
    "train_piv = train_piv.reset_index()\n",
    "train_piv.head()"
   ]
  },
  {
   "cell_type": "code",
   "execution_count": null,
   "metadata": {
    "collapsed": true
   },
   "outputs": [],
   "source": [
    "grp = train_monthly.groupby(['shop_id', 'item_id'])\n",
    "train_shop = grp.agg({'item_cnt':['mean','median','std']}).reset_index()\n",
    "train_shop.columns = ['shop_id','item_id','cnt_mean_shop','cnt_med_shop','cnt_std_shop']\n",
    "train_shop.head()"
   ]
  },
  {
   "cell_type": "code",
   "execution_count": null,
   "metadata": {
    "collapsed": true
   },
   "outputs": [],
   "source": [
    "train_cat_monthly = pd.merge(train_monthly, items_df, on=['item_id'], how='left')\n",
    "grp = train_cat_monthly.groupby(['shop_id', 'item_category_id'])\n",
    "train_shop_cat = grp.agg({'item_cnt':['mean']}).reset_index()\n",
    "train_shop_cat.columns = ['shop_id','item_category_id','cnt_mean_cat_shop']\n",
    "train_shop_cat.head()"
   ]
  },
  {
   "cell_type": "code",
   "execution_count": null,
   "metadata": {
    "collapsed": true
   },
   "outputs": [],
   "source": [
    "train_last = train_monthly[train_monthly['date_block_num']==33]\n",
    "train_last = train_last.drop(['date_block_num'], axis=1).rename(columns={'item_cnt':'cnt_sum_last'})\n",
    "train_last.head()"
   ]
  },
  {
   "cell_type": "code",
   "execution_count": null,
   "metadata": {
    "collapsed": true
   },
   "outputs": [],
   "source": [
    "# Prev month\n",
    "train_prev = train_monthly.copy()\n",
    "train_prev['date_block_num'] = train_prev['date_block_num'] + 1\n",
    "train_prev = train_prev.rename(columns={'item_cnt':'cnt_sum_prev'})\n",
    "train_prev.head()"
   ]
  },
  {
   "cell_type": "code",
   "execution_count": null,
   "metadata": {
    "collapsed": true
   },
   "outputs": [],
   "source": [
    "train_cat_prev = pd.merge(train_prev, items_df, on=['item_id'], how='left')\n",
    "grp = train_cat_prev.groupby(['date_block_num','shop_id','item_category_id'])\n",
    "train_cat_prev = grp['cnt_sum_prev'].sum().reset_index()\n",
    "train_cat_prev = train_cat_prev.rename(columns={'cnt_sum_prev':'cnt_sum_cat_prev'})\n",
    "train_cat_prev.head()"
   ]
  },
  {
   "cell_type": "code",
   "execution_count": null,
   "metadata": {
    "collapsed": true
   },
   "outputs": [],
   "source": [
    "col = np.arange(34)\n",
    "pivT = train_piv[col].T\n",
    "evm_s = pivT.ewm(span=12).mean().T\n",
    "evm_l = pivT.ewm(span=26).mean().T\n",
    "\n",
    "macd = evm_s - evm_l\n",
    "sig = macd.ewm(span=9).mean()\n",
    "\n",
    "train_piv_key = train_piv.loc[:,['shop_id','item_id']]\n",
    "train_evm_list = []\n",
    "\n",
    "for c in col:\n",
    "    sub_evm_s = pd.DataFrame(evm_s.loc[:,c]).rename(columns={c:'cnt_evm_s_prev'})\n",
    "    sub_evm_l = pd.DataFrame(evm_l.loc[:,c]).rename(columns={c:'cnt_evm_l_prev'})\n",
    "    sub_macd = pd.DataFrame(macd.loc[:,c]).rename(columns={c:'cnt_macd_prev'})\n",
    "    sub_sig = pd.DataFrame(sig.loc[:,c]).rename(columns={c:'cnt_sig_prev'})\n",
    "    \n",
    "    sub_evm = pd.concat([train_piv_key, sub_evm_s, sub_evm_l, sub_macd, sub_sig], axis=1)\n",
    "    sub_evm['date_block_num'] = c + 1\n",
    "    train_evm_list.append(sub_evm)\n",
    "    \n",
    "train_evm_prev = pd.concat(train_evm_list)\n",
    "#train_evm_prev.head()\n",
    "train_evm_prev.query(\"shop_id == 2 & item_id == 30\").tail()"
   ]
  },
  {
   "cell_type": "code",
   "execution_count": null,
   "metadata": {
    "collapsed": true
   },
   "outputs": [],
   "source": [
    "icats_df['item_category_group'] = icats_df['item_category_name'].apply(lambda x: str(x).split(' ')[0])\n",
    "icats_df['item_category_group'] = pd.Categorical(icats_df['item_category_group']).codes\n",
    "\n",
    "item_cats = pd.merge(icats_df, pd.get_dummies(icats_df['item_category_group'], prefix='item_category_group', drop_first=True), left_index=True, right_index=True)\n",
    "item_cats.drop(['item_category_group'], axis=1, inplace=True)\n",
    "\n",
    "shops_df['city'] = shops_df.shop_name.apply(lambda x: str.replace(x, '!', '')).apply(lambda x: x.split(' ')[0])\n",
    "shops_df['city'] = pd.Categorical(shops_df['city']).codes"
   ]
  },
  {
   "cell_type": "code",
   "execution_count": null,
   "metadata": {
    "collapsed": true
   },
   "outputs": [],
   "source": [
    "def mergeFeature(source): \n",
    "    d = source\n",
    "    d = pd.merge(d, items_df, on=['item_id'], how='left')\n",
    "    d = pd.merge(d, item_cats, on=['item_category_id'], how='left')\n",
    "    d = pd.merge(d, shops_df, on=['shop_id'], how='left')\n",
    "\n",
    "    d = pd.merge(d, train_price, on=['date_block_num','shop_id','item_id'], how='left')\n",
    "    d = pd.merge(d, train_shop, on=['shop_id','item_id'], how='left')\n",
    "    #d = pd.merge(d, train_shop_cat, on=['shop_id','item_category_id'], how='left')\n",
    "    #d = pd.merge(d, train_last, on=['shop_id','item_id'], how='left')\n",
    "    d = pd.merge(d, train_prev, on=['date_block_num','shop_id','item_id'], how='left')\n",
    "    d = pd.merge(d, train_evm_prev, on=['date_block_num','shop_id','item_id'], how='left')\n",
    "    d = pd.merge(d, train_cat_prev, on=['date_block_num','shop_id','item_category_id'], how='left')\n",
    "\n",
    "    d.drop(['shop_id','shop_name','item_id','item_name','item_category_id','item_category_name'], axis=1, inplace=True)\n",
    "    d.fillna(0.0, inplace=True)\n",
    "    return d\n"
   ]
  },
  {
   "cell_type": "code",
   "execution_count": null,
   "metadata": {
    "collapsed": true
   },
   "outputs": [],
   "source": [
    "train_set = mergeFeature(train_monthly)"
   ]
  },
  {
   "cell_type": "code",
   "execution_count": null,
   "metadata": {
    "collapsed": true
   },
   "outputs": [],
   "source": [
    "test_df['date_block_num'] = 34\n",
    "\n",
    "X_test = mergeFeature(test_df.drop(['ID'], axis=1))"
   ]
  },
  {
   "cell_type": "code",
   "execution_count": null,
   "metadata": {
    "collapsed": true
   },
   "outputs": [],
   "source": [
    "from xgboost import XGBRegressor\n",
    "from sklearn.metrics import r2_score, mean_squared_error\n",
    "\n",
    "X_train = train_set.drop(['item_cnt'], axis=1)\n",
    "Y_train = train_set['item_cnt']\n",
    "\n",
    "xgb = XGBRegressor(n_estimators=25, max_depth=12, learning_rate=0.1, subsample=1, colsample_bytree=1, eval_metric='rmse')\n",
    "\n",
    "xgb.fit(X_train, Y_train)\n",
    "\n",
    "preds = xgb.predict(X_train)\n",
    "\n",
    "print r2_score(Y_train, preds) #0.955330774186\n",
    "print mean_squared_error(Y_train, preds) #5.69332522603"
   ]
  },
  {
   "cell_type": "markdown",
   "metadata": {},
   "source": [
    "# Modification"
   ]
  },
  {
   "cell_type": "code",
   "execution_count": 1,
   "metadata": {},
   "outputs": [
    {
     "name": "stdout",
     "output_type": "stream",
     "text": [
      "('train:', (1224439, 6), 'test:', (214200, 3), 'items:', (22170, 3), 'shops:', (60, 2))\n"
     ]
    }
   ],
   "source": [
    "import pandas as pd\n",
    "import numpy as np\n",
    "\n",
    "items_df = pd.read_csv('Data/items.csv')\n",
    "shops_df = pd.read_csv('Data/shops.csv')\n",
    "icats_df = pd.read_csv(\"Data/item_categories.csv\")\n",
    "train_df = pd.read_csv(\"Data/sales_train.csv.gz\")\n",
    "test_df  = pd.read_csv('Data/test.csv.gz') \n",
    "\n",
    "test_shops = test_df.shop_id.unique()\n",
    "train_df = train_df[train_df.shop_id.isin(test_shops)]\n",
    "test_items = test_df.item_id.unique()\n",
    "train_df = train_df[train_df.item_id.isin(test_items)]\n",
    "\n",
    "print('train:', train_df.shape, 'test:', test_df.shape, 'items:', items_df.shape, 'shops:', shops_df.shape)"
   ]
  },
  {
   "cell_type": "code",
   "execution_count": 2,
   "metadata": {},
   "outputs": [],
   "source": [
    "train_grp = train_df.groupby(['date_block_num','shop_id','item_id'])\n",
    "\n",
    "train_price = pd.DataFrame(train_grp.mean()['item_price']).reset_index()\n",
    "\n",
    "test_grp = train_df.groupby(['shop_id', 'item_id'])\n",
    "\n",
    "test_price = pd.DataFrame(test_grp.mean()['item_price']).reset_index()\n",
    "\n",
    "test_df['date_block_num'] = 34\n",
    "test_df['season'] = np.sin(34 * np.pi * 2/12.0)\n",
    "\n",
    "a = test_df[['date_block_num', 'shop_id', 'item_id']]\n",
    "a = pd.merge(a, test_price, how='left', on=['shop_id', 'item_id'])\n",
    "train_price = pd.concat((train_price, a), ignore_index=True)\n",
    "\n",
    "train_monthly = pd.DataFrame(train_grp.sum()['item_cnt_day']).reset_index()\n",
    "\n",
    "train_monthly.rename(columns={'item_cnt_day':'item_cnt'}, inplace=True)\n",
    "\n",
    "train_monthly['season'] = np.sin(train_monthly['date_block_num']*2*np.pi/12.0)"
   ]
  },
  {
   "cell_type": "code",
   "execution_count": 3,
   "metadata": {
    "collapsed": true
   },
   "outputs": [],
   "source": [
    "train_piv = train_df.pivot_table(index=['shop_id','item_id'], columns='date_block_num', values='item_cnt_day',aggfunc='sum').fillna(0.0)    \n",
    "train_piv = train_piv.reset_index()\n",
    "\n",
    "grp = train_monthly.groupby(['shop_id', 'item_id'])\n",
    "train_shop = grp.agg({'item_cnt':['mean','median','std']}).reset_index()\n",
    "train_shop.columns = ['shop_id','item_id','cnt_mean_shop','cnt_med_shop','cnt_std_shop']"
   ]
  },
  {
   "cell_type": "code",
   "execution_count": 4,
   "metadata": {},
   "outputs": [
    {
     "data": {
      "text/html": [
       "<div>\n",
       "<style scoped>\n",
       "    .dataframe tbody tr th:only-of-type {\n",
       "        vertical-align: middle;\n",
       "    }\n",
       "\n",
       "    .dataframe tbody tr th {\n",
       "        vertical-align: top;\n",
       "    }\n",
       "\n",
       "    .dataframe thead th {\n",
       "        text-align: right;\n",
       "    }\n",
       "</style>\n",
       "<table border=\"1\" class=\"dataframe\">\n",
       "  <thead>\n",
       "    <tr style=\"text-align: right;\">\n",
       "      <th></th>\n",
       "      <th>shop_id</th>\n",
       "      <th>item_category_id</th>\n",
       "      <th>cnt_mean_cat_shop</th>\n",
       "    </tr>\n",
       "  </thead>\n",
       "  <tbody>\n",
       "    <tr>\n",
       "      <th>0</th>\n",
       "      <td>2</td>\n",
       "      <td>2</td>\n",
       "      <td>1.807692</td>\n",
       "    </tr>\n",
       "    <tr>\n",
       "      <th>1</th>\n",
       "      <td>2</td>\n",
       "      <td>3</td>\n",
       "      <td>2.547170</td>\n",
       "    </tr>\n",
       "    <tr>\n",
       "      <th>2</th>\n",
       "      <td>2</td>\n",
       "      <td>5</td>\n",
       "      <td>1.600000</td>\n",
       "    </tr>\n",
       "    <tr>\n",
       "      <th>3</th>\n",
       "      <td>2</td>\n",
       "      <td>6</td>\n",
       "      <td>2.047244</td>\n",
       "    </tr>\n",
       "    <tr>\n",
       "      <th>4</th>\n",
       "      <td>2</td>\n",
       "      <td>7</td>\n",
       "      <td>1.333333</td>\n",
       "    </tr>\n",
       "  </tbody>\n",
       "</table>\n",
       "</div>"
      ],
      "text/plain": [
       "   shop_id  item_category_id  cnt_mean_cat_shop\n",
       "0        2                 2           1.807692\n",
       "1        2                 3           2.547170\n",
       "2        2                 5           1.600000\n",
       "3        2                 6           2.047244\n",
       "4        2                 7           1.333333"
      ]
     },
     "execution_count": 4,
     "metadata": {},
     "output_type": "execute_result"
    }
   ],
   "source": [
    "train_cat_monthly = pd.merge(train_monthly, items_df, on=['item_id'], how='left')\n",
    "grp = train_cat_monthly.groupby(['shop_id', 'item_category_id'])\n",
    "train_shop_cat = grp.agg({'item_cnt':['mean']}).reset_index()\n",
    "train_shop_cat.columns = ['shop_id','item_category_id','cnt_mean_cat_shop']\n",
    "train_shop_cat.head()"
   ]
  },
  {
   "cell_type": "code",
   "execution_count": 5,
   "metadata": {},
   "outputs": [
    {
     "data": {
      "text/html": [
       "<div>\n",
       "<style scoped>\n",
       "    .dataframe tbody tr th:only-of-type {\n",
       "        vertical-align: middle;\n",
       "    }\n",
       "\n",
       "    .dataframe tbody tr th {\n",
       "        vertical-align: top;\n",
       "    }\n",
       "\n",
       "    .dataframe thead th {\n",
       "        text-align: right;\n",
       "    }\n",
       "</style>\n",
       "<table border=\"1\" class=\"dataframe\">\n",
       "  <thead>\n",
       "    <tr style=\"text-align: right;\">\n",
       "      <th></th>\n",
       "      <th>shop_name</th>\n",
       "      <th>shop_id</th>\n",
       "      <th>city_id</th>\n",
       "    </tr>\n",
       "  </thead>\n",
       "  <tbody>\n",
       "    <tr>\n",
       "      <th>0</th>\n",
       "      <td>!Якутск Орджоникидзе, 56 фран</td>\n",
       "      <td>0</td>\n",
       "      <td>29</td>\n",
       "    </tr>\n",
       "    <tr>\n",
       "      <th>1</th>\n",
       "      <td>!Якутск ТЦ \"Центральный\" фран</td>\n",
       "      <td>1</td>\n",
       "      <td>29</td>\n",
       "    </tr>\n",
       "    <tr>\n",
       "      <th>2</th>\n",
       "      <td>Адыгея ТЦ \"Мега\"</td>\n",
       "      <td>2</td>\n",
       "      <td>0</td>\n",
       "    </tr>\n",
       "    <tr>\n",
       "      <th>3</th>\n",
       "      <td>Балашиха ТРК \"Октябрь-Киномир\"</td>\n",
       "      <td>3</td>\n",
       "      <td>1</td>\n",
       "    </tr>\n",
       "    <tr>\n",
       "      <th>4</th>\n",
       "      <td>Волжский ТЦ \"Волга Молл\"</td>\n",
       "      <td>4</td>\n",
       "      <td>2</td>\n",
       "    </tr>\n",
       "  </tbody>\n",
       "</table>\n",
       "</div>"
      ],
      "text/plain": [
       "                        shop_name  shop_id  city_id\n",
       "0   !Якутск Орджоникидзе, 56 фран        0       29\n",
       "1   !Якутск ТЦ \"Центральный\" фран        1       29\n",
       "2                Адыгея ТЦ \"Мега\"        2        0\n",
       "3  Балашиха ТРК \"Октябрь-Киномир\"        3        1\n",
       "4        Волжский ТЦ \"Волга Молл\"        4        2"
      ]
     },
     "execution_count": 5,
     "metadata": {},
     "output_type": "execute_result"
    }
   ],
   "source": [
    "shops_df['city_id'] = shops_df.shop_name.apply(lambda x: str.replace(x, '!', '')).apply(lambda x: x.split(' ')[0])\n",
    "shops_df['city_id'] = pd.Categorical(shops_df['city_id']).codes\n",
    "shops_df.head(5)"
   ]
  },
  {
   "cell_type": "code",
   "execution_count": 6,
   "metadata": {
    "collapsed": true
   },
   "outputs": [],
   "source": [
    "# construct cnt_mean_cat_shop\n",
    "\n",
    "train_cat_shop_monthly = pd.merge(train_cat_monthly, shops_df, on=['shop_id'], how='left')"
   ]
  },
  {
   "cell_type": "code",
   "execution_count": 7,
   "metadata": {},
   "outputs": [
    {
     "data": {
      "text/html": [
       "<div>\n",
       "<style scoped>\n",
       "    .dataframe tbody tr th:only-of-type {\n",
       "        vertical-align: middle;\n",
       "    }\n",
       "\n",
       "    .dataframe tbody tr th {\n",
       "        vertical-align: top;\n",
       "    }\n",
       "\n",
       "    .dataframe thead th {\n",
       "        text-align: right;\n",
       "    }\n",
       "</style>\n",
       "<table border=\"1\" class=\"dataframe\">\n",
       "  <thead>\n",
       "    <tr style=\"text-align: right;\">\n",
       "      <th></th>\n",
       "      <th>city_id</th>\n",
       "      <th>item_category_id</th>\n",
       "      <th>cnt_mean_cat_city</th>\n",
       "    </tr>\n",
       "  </thead>\n",
       "  <tbody>\n",
       "    <tr>\n",
       "      <th>0</th>\n",
       "      <td>0</td>\n",
       "      <td>2</td>\n",
       "      <td>1.807692</td>\n",
       "    </tr>\n",
       "    <tr>\n",
       "      <th>1</th>\n",
       "      <td>0</td>\n",
       "      <td>3</td>\n",
       "      <td>2.547170</td>\n",
       "    </tr>\n",
       "    <tr>\n",
       "      <th>2</th>\n",
       "      <td>0</td>\n",
       "      <td>5</td>\n",
       "      <td>1.600000</td>\n",
       "    </tr>\n",
       "    <tr>\n",
       "      <th>3</th>\n",
       "      <td>0</td>\n",
       "      <td>6</td>\n",
       "      <td>2.047244</td>\n",
       "    </tr>\n",
       "    <tr>\n",
       "      <th>4</th>\n",
       "      <td>0</td>\n",
       "      <td>7</td>\n",
       "      <td>1.333333</td>\n",
       "    </tr>\n",
       "  </tbody>\n",
       "</table>\n",
       "</div>"
      ],
      "text/plain": [
       "   city_id  item_category_id  cnt_mean_cat_city\n",
       "0        0                 2           1.807692\n",
       "1        0                 3           2.547170\n",
       "2        0                 5           1.600000\n",
       "3        0                 6           2.047244\n",
       "4        0                 7           1.333333"
      ]
     },
     "execution_count": 7,
     "metadata": {},
     "output_type": "execute_result"
    }
   ],
   "source": [
    "grp = train_cat_shop_monthly.groupby(['city_id', 'item_category_id'])\n",
    "train_city_cat = grp.agg({'item_cnt':['mean']}).reset_index()\n",
    "train_city_cat.columns = ['city_id', 'item_category_id', 'cnt_mean_cat_city']\n",
    "train_city_cat.head()"
   ]
  },
  {
   "cell_type": "code",
   "execution_count": 8,
   "metadata": {},
   "outputs": [
    {
     "data": {
      "text/html": [
       "<div>\n",
       "<style scoped>\n",
       "    .dataframe tbody tr th:only-of-type {\n",
       "        vertical-align: middle;\n",
       "    }\n",
       "\n",
       "    .dataframe tbody tr th {\n",
       "        vertical-align: top;\n",
       "    }\n",
       "\n",
       "    .dataframe thead th {\n",
       "        text-align: right;\n",
       "    }\n",
       "</style>\n",
       "<table border=\"1\" class=\"dataframe\">\n",
       "  <thead>\n",
       "    <tr style=\"text-align: right;\">\n",
       "      <th></th>\n",
       "      <th>shop_id</th>\n",
       "      <th>item_id</th>\n",
       "      <th>cnt_sum_last</th>\n",
       "      <th>season</th>\n",
       "    </tr>\n",
       "  </thead>\n",
       "  <tbody>\n",
       "    <tr>\n",
       "      <th>571479</th>\n",
       "      <td>2</td>\n",
       "      <td>31</td>\n",
       "      <td>1.0</td>\n",
       "      <td>-1.0</td>\n",
       "    </tr>\n",
       "    <tr>\n",
       "      <th>571480</th>\n",
       "      <td>2</td>\n",
       "      <td>486</td>\n",
       "      <td>3.0</td>\n",
       "      <td>-1.0</td>\n",
       "    </tr>\n",
       "    <tr>\n",
       "      <th>571481</th>\n",
       "      <td>2</td>\n",
       "      <td>787</td>\n",
       "      <td>1.0</td>\n",
       "      <td>-1.0</td>\n",
       "    </tr>\n",
       "    <tr>\n",
       "      <th>571482</th>\n",
       "      <td>2</td>\n",
       "      <td>794</td>\n",
       "      <td>1.0</td>\n",
       "      <td>-1.0</td>\n",
       "    </tr>\n",
       "    <tr>\n",
       "      <th>571483</th>\n",
       "      <td>2</td>\n",
       "      <td>968</td>\n",
       "      <td>1.0</td>\n",
       "      <td>-1.0</td>\n",
       "    </tr>\n",
       "  </tbody>\n",
       "</table>\n",
       "</div>"
      ],
      "text/plain": [
       "        shop_id  item_id  cnt_sum_last  season\n",
       "571479        2       31           1.0    -1.0\n",
       "571480        2      486           3.0    -1.0\n",
       "571481        2      787           1.0    -1.0\n",
       "571482        2      794           1.0    -1.0\n",
       "571483        2      968           1.0    -1.0"
      ]
     },
     "execution_count": 8,
     "metadata": {},
     "output_type": "execute_result"
    }
   ],
   "source": [
    "train_last = train_monthly[train_monthly['date_block_num']==33]\n",
    "train_last = train_last.drop(['date_block_num'], axis=1).rename(columns={'item_cnt':'cnt_sum_last'})\n",
    "train_last.head()"
   ]
  },
  {
   "cell_type": "code",
   "execution_count": 9,
   "metadata": {},
   "outputs": [
    {
     "data": {
      "text/html": [
       "<div>\n",
       "<style scoped>\n",
       "    .dataframe tbody tr th:only-of-type {\n",
       "        vertical-align: middle;\n",
       "    }\n",
       "\n",
       "    .dataframe tbody tr th {\n",
       "        vertical-align: top;\n",
       "    }\n",
       "\n",
       "    .dataframe thead th {\n",
       "        text-align: right;\n",
       "    }\n",
       "</style>\n",
       "<table border=\"1\" class=\"dataframe\">\n",
       "  <thead>\n",
       "    <tr style=\"text-align: right;\">\n",
       "      <th></th>\n",
       "      <th>date_block_num</th>\n",
       "      <th>shop_id</th>\n",
       "      <th>item_category_id</th>\n",
       "      <th>cnt_sum_cat_prev</th>\n",
       "    </tr>\n",
       "  </thead>\n",
       "  <tbody>\n",
       "    <tr>\n",
       "      <th>0</th>\n",
       "      <td>1</td>\n",
       "      <td>2</td>\n",
       "      <td>2</td>\n",
       "      <td>9.0</td>\n",
       "    </tr>\n",
       "    <tr>\n",
       "      <th>1</th>\n",
       "      <td>1</td>\n",
       "      <td>2</td>\n",
       "      <td>5</td>\n",
       "      <td>2.0</td>\n",
       "    </tr>\n",
       "    <tr>\n",
       "      <th>2</th>\n",
       "      <td>1</td>\n",
       "      <td>2</td>\n",
       "      <td>6</td>\n",
       "      <td>10.0</td>\n",
       "    </tr>\n",
       "    <tr>\n",
       "      <th>3</th>\n",
       "      <td>1</td>\n",
       "      <td>2</td>\n",
       "      <td>19</td>\n",
       "      <td>19.0</td>\n",
       "    </tr>\n",
       "    <tr>\n",
       "      <th>4</th>\n",
       "      <td>1</td>\n",
       "      <td>2</td>\n",
       "      <td>21</td>\n",
       "      <td>10.0</td>\n",
       "    </tr>\n",
       "  </tbody>\n",
       "</table>\n",
       "</div>"
      ],
      "text/plain": [
       "   date_block_num  shop_id  item_category_id  cnt_sum_cat_prev\n",
       "0               1        2                 2               9.0\n",
       "1               1        2                 5               2.0\n",
       "2               1        2                 6              10.0\n",
       "3               1        2                19              19.0\n",
       "4               1        2                21              10.0"
      ]
     },
     "execution_count": 9,
     "metadata": {},
     "output_type": "execute_result"
    }
   ],
   "source": [
    "# Prev month\n",
    "train_prev = train_monthly.copy().drop(['season'], axis=1)\n",
    "train_prev['date_block_num'] = train_prev['date_block_num'] + 1\n",
    "train_prev = train_prev.rename(columns={'item_cnt':'cnt_sum_prev'})\n",
    "\n",
    "train_cat_prev = pd.merge(train_prev, items_df, on=['item_id'], how='left')\n",
    "grp = train_cat_prev.groupby(['date_block_num','shop_id','item_category_id'])\n",
    "train_cat_prev = grp['cnt_sum_prev'].sum().reset_index()\n",
    "train_cat_prev = train_cat_prev.rename(columns={'cnt_sum_prev':'cnt_sum_cat_prev'})\n",
    "train_cat_prev.head()"
   ]
  },
  {
   "cell_type": "code",
   "execution_count": 10,
   "metadata": {},
   "outputs": [
    {
     "data": {
      "text/html": [
       "<div>\n",
       "<style scoped>\n",
       "    .dataframe tbody tr th:only-of-type {\n",
       "        vertical-align: middle;\n",
       "    }\n",
       "\n",
       "    .dataframe tbody tr th {\n",
       "        vertical-align: top;\n",
       "    }\n",
       "\n",
       "    .dataframe thead th {\n",
       "        text-align: right;\n",
       "    }\n",
       "</style>\n",
       "<table border=\"1\" class=\"dataframe\">\n",
       "  <thead>\n",
       "    <tr style=\"text-align: right;\">\n",
       "      <th></th>\n",
       "      <th>shop_id</th>\n",
       "      <th>item_id</th>\n",
       "      <th>cnt_evm_s_prev</th>\n",
       "      <th>cnt_evm_l_prev</th>\n",
       "      <th>cnt_macd_prev</th>\n",
       "      <th>cnt_sig_prev</th>\n",
       "      <th>date_block_num</th>\n",
       "    </tr>\n",
       "  </thead>\n",
       "  <tbody>\n",
       "    <tr>\n",
       "      <th>0</th>\n",
       "      <td>2</td>\n",
       "      <td>30</td>\n",
       "      <td>0.037104</td>\n",
       "      <td>0.081511</td>\n",
       "      <td>-0.044407</td>\n",
       "      <td>-0.044407</td>\n",
       "      <td>30</td>\n",
       "    </tr>\n",
       "    <tr>\n",
       "      <th>0</th>\n",
       "      <td>2</td>\n",
       "      <td>30</td>\n",
       "      <td>0.031363</td>\n",
       "      <td>0.074861</td>\n",
       "      <td>-0.043498</td>\n",
       "      <td>-0.043498</td>\n",
       "      <td>31</td>\n",
       "    </tr>\n",
       "    <tr>\n",
       "      <th>0</th>\n",
       "      <td>2</td>\n",
       "      <td>30</td>\n",
       "      <td>0.026515</td>\n",
       "      <td>0.068800</td>\n",
       "      <td>-0.042284</td>\n",
       "      <td>-0.042284</td>\n",
       "      <td>32</td>\n",
       "    </tr>\n",
       "    <tr>\n",
       "      <th>0</th>\n",
       "      <td>2</td>\n",
       "      <td>30</td>\n",
       "      <td>0.022419</td>\n",
       "      <td>0.063267</td>\n",
       "      <td>-0.040848</td>\n",
       "      <td>-0.040848</td>\n",
       "      <td>33</td>\n",
       "    </tr>\n",
       "    <tr>\n",
       "      <th>0</th>\n",
       "      <td>2</td>\n",
       "      <td>30</td>\n",
       "      <td>0.018958</td>\n",
       "      <td>0.058211</td>\n",
       "      <td>-0.039253</td>\n",
       "      <td>-0.039253</td>\n",
       "      <td>34</td>\n",
       "    </tr>\n",
       "  </tbody>\n",
       "</table>\n",
       "</div>"
      ],
      "text/plain": [
       "   shop_id  item_id  cnt_evm_s_prev  cnt_evm_l_prev  cnt_macd_prev  \\\n",
       "0        2       30        0.037104        0.081511      -0.044407   \n",
       "0        2       30        0.031363        0.074861      -0.043498   \n",
       "0        2       30        0.026515        0.068800      -0.042284   \n",
       "0        2       30        0.022419        0.063267      -0.040848   \n",
       "0        2       30        0.018958        0.058211      -0.039253   \n",
       "\n",
       "   cnt_sig_prev  date_block_num  \n",
       "0     -0.044407              30  \n",
       "0     -0.043498              31  \n",
       "0     -0.042284              32  \n",
       "0     -0.040848              33  \n",
       "0     -0.039253              34  "
      ]
     },
     "execution_count": 10,
     "metadata": {},
     "output_type": "execute_result"
    }
   ],
   "source": [
    "col = np.arange(34)\n",
    "pivT = train_piv[col].T\n",
    "evm_s = pivT.ewm(span=12).mean().T\n",
    "evm_l = pivT.ewm(span=26).mean().T\n",
    "\n",
    "macd = evm_s - evm_l\n",
    "sig = macd.ewm(span=9).mean()\n",
    "\n",
    "train_piv_key = train_piv.loc[:,['shop_id','item_id']]\n",
    "train_evm_list = []\n",
    "\n",
    "for c in col:\n",
    "    sub_evm_s = pd.DataFrame(evm_s.loc[:,c]).rename(columns={c:'cnt_evm_s_prev'})\n",
    "    sub_evm_l = pd.DataFrame(evm_l.loc[:,c]).rename(columns={c:'cnt_evm_l_prev'})\n",
    "    sub_macd = pd.DataFrame(macd.loc[:,c]).rename(columns={c:'cnt_macd_prev'})\n",
    "    sub_sig = pd.DataFrame(sig.loc[:,c]).rename(columns={c:'cnt_sig_prev'})\n",
    "    \n",
    "    sub_evm = pd.concat([train_piv_key, sub_evm_s, sub_evm_l, sub_macd, sub_sig], axis=1)\n",
    "    sub_evm['date_block_num'] = c + 1\n",
    "    train_evm_list.append(sub_evm)\n",
    "    \n",
    "train_evm_prev = pd.concat(train_evm_list)\n",
    "#train_evm_prev.head()\n",
    "train_evm_prev.query(\"shop_id == 2 & item_id == 30\").tail()"
   ]
  },
  {
   "cell_type": "code",
   "execution_count": 11,
   "metadata": {},
   "outputs": [
    {
     "data": {
      "text/html": [
       "<div>\n",
       "<style scoped>\n",
       "    .dataframe tbody tr th:only-of-type {\n",
       "        vertical-align: middle;\n",
       "    }\n",
       "\n",
       "    .dataframe tbody tr th {\n",
       "        vertical-align: top;\n",
       "    }\n",
       "\n",
       "    .dataframe thead th {\n",
       "        text-align: right;\n",
       "    }\n",
       "</style>\n",
       "<table border=\"1\" class=\"dataframe\">\n",
       "  <thead>\n",
       "    <tr style=\"text-align: right;\">\n",
       "      <th></th>\n",
       "      <th>date_block_num</th>\n",
       "      <th>shop_id</th>\n",
       "      <th>item_id</th>\n",
       "      <th>item_cnt</th>\n",
       "      <th>season</th>\n",
       "      <th>item_name</th>\n",
       "      <th>item_category_id</th>\n",
       "    </tr>\n",
       "  </thead>\n",
       "  <tbody>\n",
       "    <tr>\n",
       "      <th>0</th>\n",
       "      <td>0</td>\n",
       "      <td>2</td>\n",
       "      <td>33</td>\n",
       "      <td>1.0</td>\n",
       "      <td>0.0</td>\n",
       "      <td>1+1 (BD)</td>\n",
       "      <td>37</td>\n",
       "    </tr>\n",
       "    <tr>\n",
       "      <th>1</th>\n",
       "      <td>0</td>\n",
       "      <td>2</td>\n",
       "      <td>482</td>\n",
       "      <td>1.0</td>\n",
       "      <td>0.0</td>\n",
       "      <td>1С:Бухгалтерия 8. Базовая версия</td>\n",
       "      <td>73</td>\n",
       "    </tr>\n",
       "    <tr>\n",
       "      <th>2</th>\n",
       "      <td>0</td>\n",
       "      <td>2</td>\n",
       "      <td>491</td>\n",
       "      <td>1.0</td>\n",
       "      <td>0.0</td>\n",
       "      <td>1С:Деньги 8</td>\n",
       "      <td>73</td>\n",
       "    </tr>\n",
       "    <tr>\n",
       "      <th>3</th>\n",
       "      <td>0</td>\n",
       "      <td>2</td>\n",
       "      <td>839</td>\n",
       "      <td>1.0</td>\n",
       "      <td>0.0</td>\n",
       "      <td>1С:Упрощенка 8</td>\n",
       "      <td>73</td>\n",
       "    </tr>\n",
       "    <tr>\n",
       "      <th>4</th>\n",
       "      <td>0</td>\n",
       "      <td>2</td>\n",
       "      <td>1007</td>\n",
       "      <td>3.0</td>\n",
       "      <td>0.0</td>\n",
       "      <td>3D Crystal Puzzle Замок XL</td>\n",
       "      <td>67</td>\n",
       "    </tr>\n",
       "  </tbody>\n",
       "</table>\n",
       "</div>"
      ],
      "text/plain": [
       "   date_block_num  shop_id  item_id  item_cnt  season  \\\n",
       "0               0        2       33       1.0     0.0   \n",
       "1               0        2      482       1.0     0.0   \n",
       "2               0        2      491       1.0     0.0   \n",
       "3               0        2      839       1.0     0.0   \n",
       "4               0        2     1007       3.0     0.0   \n",
       "\n",
       "                          item_name  item_category_id  \n",
       "0                          1+1 (BD)                37  \n",
       "1  1С:Бухгалтерия 8. Базовая версия                73  \n",
       "2                       1С:Деньги 8                73  \n",
       "3                    1С:Упрощенка 8                73  \n",
       "4        3D Crystal Puzzle Замок XL                67  "
      ]
     },
     "execution_count": 11,
     "metadata": {},
     "output_type": "execute_result"
    }
   ],
   "source": [
    "train_cat_monthly.head(5)"
   ]
  },
  {
   "cell_type": "code",
   "execution_count": 12,
   "metadata": {},
   "outputs": [
    {
     "data": {
      "text/html": [
       "<div>\n",
       "<style scoped>\n",
       "    .dataframe tbody tr th:only-of-type {\n",
       "        vertical-align: middle;\n",
       "    }\n",
       "\n",
       "    .dataframe tbody tr th {\n",
       "        vertical-align: top;\n",
       "    }\n",
       "\n",
       "    .dataframe thead th {\n",
       "        text-align: right;\n",
       "    }\n",
       "</style>\n",
       "<table border=\"1\" class=\"dataframe\">\n",
       "  <thead>\n",
       "    <tr style=\"text-align: right;\">\n",
       "      <th></th>\n",
       "      <th>item_category_group</th>\n",
       "      <th>cnt_mean_group</th>\n",
       "      <th>cnt_median_group</th>\n",
       "      <th>cnt_std_group</th>\n",
       "    </tr>\n",
       "  </thead>\n",
       "  <tbody>\n",
       "    <tr>\n",
       "      <th>0</th>\n",
       "      <td>1</td>\n",
       "      <td>2.578591</td>\n",
       "      <td>1.0</td>\n",
       "      <td>3.366503</td>\n",
       "    </tr>\n",
       "    <tr>\n",
       "      <th>1</th>\n",
       "      <td>3</td>\n",
       "      <td>98.612022</td>\n",
       "      <td>45.0</td>\n",
       "      <td>199.144371</td>\n",
       "    </tr>\n",
       "    <tr>\n",
       "      <th>2</th>\n",
       "      <td>4</td>\n",
       "      <td>5.237907</td>\n",
       "      <td>2.0</td>\n",
       "      <td>12.195184</td>\n",
       "    </tr>\n",
       "    <tr>\n",
       "      <th>3</th>\n",
       "      <td>5</td>\n",
       "      <td>3.414953</td>\n",
       "      <td>2.0</td>\n",
       "      <td>8.123475</td>\n",
       "    </tr>\n",
       "    <tr>\n",
       "      <th>4</th>\n",
       "      <td>6</td>\n",
       "      <td>6.801076</td>\n",
       "      <td>4.0</td>\n",
       "      <td>14.447545</td>\n",
       "    </tr>\n",
       "  </tbody>\n",
       "</table>\n",
       "</div>"
      ],
      "text/plain": [
       "   item_category_group  cnt_mean_group  cnt_median_group  cnt_std_group\n",
       "0                    1        2.578591               1.0       3.366503\n",
       "1                    3       98.612022              45.0     199.144371\n",
       "2                    4        5.237907               2.0      12.195184\n",
       "3                    5        3.414953               2.0       8.123475\n",
       "4                    6        6.801076               4.0      14.447545"
      ]
     },
     "execution_count": 12,
     "metadata": {},
     "output_type": "execute_result"
    }
   ],
   "source": [
    "icats_df['item_category_group'] = icats_df['item_category_name'].apply(lambda x: str(x).split(' ')[0])\n",
    "icats_df['item_category_group'] = pd.Categorical(icats_df['item_category_group']).codes\n",
    "\n",
    "train_cat_group_monthly = pd.merge(train_cat_monthly, icats_df, on=['item_category_id'], how='left')\n",
    "\n",
    "grp = train_cat_group_monthly.groupby(['item_category_group'])\n",
    "train_group = grp.agg({'item_cnt':['mean', 'median', 'std']}).reset_index()\n",
    "train_group.columns = ['item_category_group', 'cnt_mean_group', 'cnt_median_group', 'cnt_std_group']\n",
    "train_group.head()"
   ]
  },
  {
   "cell_type": "code",
   "execution_count": 13,
   "metadata": {
    "collapsed": true
   },
   "outputs": [],
   "source": [
    "def mergeFeature(source): \n",
    "    d = source\n",
    "    d = pd.merge(d, items_df, on=['item_id'], how='left')\n",
    "    d = pd.merge(d, icats_df, on=['item_category_id'], how='left')\n",
    "    d = pd.merge(d, shops_df, on=['shop_id'], how='left')\n",
    "\n",
    "    d = pd.merge(d, train_price, on=['date_block_num','shop_id','item_id'], how='left')\n",
    "    d = pd.merge(d, train_shop, on=['shop_id','item_id'], how='left')\n",
    "    d = pd.merge(d, train_shop_cat, on=['shop_id','item_category_id'], how='left')\n",
    "    d = pd.merge(d, train_city_cat, on=['city_id','item_category_id'], how='left')\n",
    "    d = pd.merge(d, train_group, on=['item_category_group'], how='left')\n",
    "    #d = pd.merge(d, train_last, on=['shop_id','item_id'], how='left')\n",
    "    d = pd.merge(d, train_prev, on=['date_block_num','shop_id','item_id'], how='left')\n",
    "    d = pd.merge(d, train_evm_prev, on=['date_block_num','shop_id','item_id'], how='left')\n",
    "    d = pd.merge(d, train_cat_prev, on=['date_block_num','shop_id','item_category_id'], how='left')\n",
    "\n",
    "    d.drop(['date_block_num', 'shop_id','shop_name','item_id','item_name','item_category_id','item_category_name', 'item_category_group', 'city_id'], axis=1, inplace=True)\n",
    "    d.fillna(0.0, inplace=True)\n",
    "    \n",
    "    return d"
   ]
  },
  {
   "cell_type": "code",
   "execution_count": 14,
   "metadata": {
    "collapsed": true
   },
   "outputs": [],
   "source": [
    "def num_rescale(train, test):\n",
    "    \n",
    "    d = pd.concat([train, test], ignore_index=True)\n",
    "    \n",
    "    d['item_price_inv'] = d['item_price'].values.min()/d['item_price']\n",
    "    d.drop(['item_price'], axis=1, inplace=True)\n",
    "    d['item_price_inv'].fillna(0, inplace=True)\n",
    "    \n",
    "    columns = ['cnt_mean_shop', 'cnt_std_shop', 'cnt_mean_cat_shop', 'cnt_mean_cat_city', 'cnt_mean_group',\n",
    "               'cnt_median_group', 'cnt_std_group', 'cnt_sum_prev', 'cnt_evm_s_prev', 'cnt_evm_l_prev',\n",
    "               'cnt_macd_prev', 'cnt_sig_prev', 'cnt_sum_cat_prev']\n",
    "    \n",
    "    for column in columns:\n",
    "    \n",
    "        d[column] = d[column]/d[column].values.std()\n",
    "    \n",
    "    return d.iloc[:len(train)], d.iloc[len(train):]"
   ]
  },
  {
   "cell_type": "code",
   "execution_count": 28,
   "metadata": {
    "collapsed": true
   },
   "outputs": [],
   "source": [
    "train_set = mergeFeature(train_monthly)\n",
    "\n",
    "X_train = train_set.drop(['item_cnt'], axis=1)\n",
    "Y_train = train_set[['item_cnt']]\n",
    "\n",
    "X_test = mergeFeature(test_df.drop(['ID'], axis=1))\n",
    "\n",
    "X_train, X_test = num_rescale(X_train, X_test)\n",
    "X_test.reset_index(drop=True, inplace=True)\n",
    "\n",
    "X_train.to_csv(\"X_train.csv.gz\", index=False, compression='gzip')\n",
    "X_test['ID'] = test_df['ID']\n",
    "X_test.to_csv(\"X_test.csv.gz\", index=False, compression='gzip')\n",
    "Y_train.to_csv(\"Y_train.csv.gz\", index=False, compression='gzip')"
   ]
  },
  {
   "cell_type": "markdown",
   "metadata": {},
   "source": [
    "After the X_train, Y_train, X_test are produced, we can work from this step"
   ]
  },
  {
   "cell_type": "code",
   "execution_count": null,
   "metadata": {
    "collapsed": true
   },
   "outputs": [],
   "source": []
  }
 ],
 "metadata": {
  "kernelspec": {
   "display_name": "Python 2",
   "language": "python",
   "name": "python2"
  },
  "language_info": {
   "codemirror_mode": {
    "name": "ipython",
    "version": 2
   },
   "file_extension": ".py",
   "mimetype": "text/x-python",
   "name": "python",
   "nbconvert_exporter": "python",
   "pygments_lexer": "ipython2",
   "version": "2.7.13"
  }
 },
 "nbformat": 4,
 "nbformat_minor": 2
}
