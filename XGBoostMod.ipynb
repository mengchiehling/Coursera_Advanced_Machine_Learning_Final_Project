{
 "cells": [
  {
   "cell_type": "code",
   "execution_count": null,
   "metadata": {},
   "outputs": [],
   "source": [
    "from Regression import *\n",
    "import pandas as pd\n",
    "import numpy as np\n",
    "from datetime import datetime\n",
    "\n",
    "if __name__ == \"__main__\":\n",
    "    \n",
    "    time_begin = datetime.now()\n",
    "    \n",
    "    model_name = \"models/XGBoostRegressor\"\n",
    "    key = \"XGB\"\n",
    "    \n",
    "    n_estimators = [400] # np.arange(100, 301, 50)\n",
    "    learning_rate = [0.025, 0.05, 0.075, 0.1]\n",
    "    gamma = [1] #np.logspace(0, 1, 4)\n",
    "    max_depth = [7, 10, 13, 16]\n",
    "    min_child_weight = [1] #np.linspace(1, 17, 5).astype(int)\n",
    "    colsample_bytree = [0.7]\n",
    "    subsample = [0.8]\n",
    "\n",
    "    params = {'n_estimators': n_estimators,\n",
    "              'learning_rate': learning_rate,\n",
    "              'gamma': gamma,\n",
    "              'max_depth': max_depth,\n",
    "              'min_child_weight': min_child_weight,\n",
    "              'colsample_bytree': colsample_bytree,\n",
    "              'subsample': subsample}\n",
    "\n",
    "    \n",
    "    X_train = pd.read_csv(\"X_train.csv.gz\")\n",
    "    X_test = pd.read_csv(\"X_test.csv.gz\")\n",
    "    Y_train = pd.read_csv(\"Y_train.csv.gz\")\n",
    "    \n",
    "    XGBRegressor_Fitting(X_train, Y_train, params, output_model_name=model_name)\n",
    "    \n",
    "    time_end = datetime.now()\n",
    "    \n",
    "    period = time_end - time_begin\n",
    "    \n",
    "    print period\n",
    "    \n",
    "    regressor = joblib.load(model_name)\n",
    "    \n",
    "    prediction1 = regressor.predict(X_train).reshape(-1,1)\n",
    "    prediction1_df = pd.DataFrame(data=prediction1, columns=[key])\n",
    "    prediction1_df.to_csv(\"predictions_training/{}.csv\".format(key), index=False)\n",
    "\n",
    "    prediction2 = regressor.predict(X_test.drop(['ID'], axis=1)).reshape(-1,1)\n",
    "    prediction2_df = pd.DataFrame(data=prediction2, columns=[key])\n",
    "    prediction2_df = pd.concat([X_test[['ID']], prediction2_df], axis=1)\n",
    "    prediction2_df.to_csv(\"predictions_testing/{}.csv\".format(key), index=False)"
   ]
  },
  {
   "cell_type": "code",
   "execution_count": null,
   "metadata": {},
   "outputs": [],
   "source": []
  }
 ],
 "metadata": {
  "kernelspec": {
   "display_name": "Python 2",
   "language": "python",
   "name": "python2"
  },
  "language_info": {
   "codemirror_mode": {
    "name": "ipython",
    "version": 2
   },
   "file_extension": ".py",
   "mimetype": "text/x-python",
   "name": "python",
   "nbconvert_exporter": "python",
   "pygments_lexer": "ipython2",
   "version": "2.7.14"
  }
 },
 "nbformat": 4,
 "nbformat_minor": 2
}
