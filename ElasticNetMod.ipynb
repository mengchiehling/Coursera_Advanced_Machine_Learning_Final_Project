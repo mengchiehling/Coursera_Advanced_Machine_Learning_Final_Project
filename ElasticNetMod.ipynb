{
 "cells": [
  {
   "cell_type": "code",
   "execution_count": null,
   "metadata": {},
   "outputs": [],
   "source": [
    "from Regression import *\n",
    "import pandas as pd\n",
    "import numpy as np\n",
    "from datetime import datetime\n",
    "\n",
    "if __name__ == \"__main__\":\n",
    "    \n",
    "    time_begin = datetime.now()\n",
    "    \n",
    "    model_name = \"models/ElasticNet\"\n",
    "    key = \"EN\"\n",
    "    \n",
    "    alpha = np.logspace(-1, 2, 11)\n",
    "    l1_ratio = np.linspace(0, 1, 11)\n",
    "\n",
    "    params = {'alpha': alpha,\n",
    "              'l1_ratio': l1_ratio}\n",
    "    \n",
    "    X_train = pd.read_csv(\"X_train.csv.gz\")\n",
    "    X_test = pd.read_csv(\"X_test.csv.gz\")\n",
    "    Y_train = pd.read_csv(\"Y_train.csv.gz\")\n",
    "    \n",
    "    ElasticNet_Fitting(X_train, Y_train, params, output_model_name=model_name)\n",
    "    \n",
    "    time_end = datetime.now()\n",
    "    \n",
    "    period = time_end - time_begin\n",
    "    \n",
    "    print period\n",
    "    \n",
    "    regressor = joblib.load(model_name)\n",
    "    \n",
    "    prediction1 = regressor.predict(X_train).reshape(-1,1)\n",
    "    prediction1_df = pd.DataFrame(data=prediction1, columns=[key])\n",
    "    prediction1_df.to_csv(\"predictions_training/{}.csv\".format(key), index=False)\n",
    "\n",
    "    prediction2 = regressor.predict(X_test.drop(['ID'], axis=1)).reshape(-1,1)\n",
    "    prediction2_df = pd.DataFrame(data=prediction2, columns=[key])\n",
    "    prediction2_df = pd.concat([X_test[['ID']], prediction2_df], axis=1)\n",
    "    prediction2_df.to_csv(\"predictions_testing/{}.csv\".format(key), index=False)"
   ]
  },
  {
   "cell_type": "code",
   "execution_count": null,
   "metadata": {},
   "outputs": [],
   "source": []
  }
 ],
 "metadata": {
  "kernelspec": {
   "display_name": "Python 2",
   "language": "python",
   "name": "python2"
  },
  "language_info": {
   "codemirror_mode": {
    "name": "ipython",
    "version": 2
   },
   "file_extension": ".py",
   "mimetype": "text/x-python",
   "name": "python",
   "nbconvert_exporter": "python",
   "pygments_lexer": "ipython2",
   "version": "2.7.14"
  }
 },
 "nbformat": 4,
 "nbformat_minor": 2
}
